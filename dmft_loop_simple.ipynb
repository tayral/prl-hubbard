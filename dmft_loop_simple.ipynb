{
 "cells": [
  {
   "cell_type": "markdown",
   "id": "1d91b172",
   "metadata": {},
   "source": [
    "## Example for one value of $U$"
   ]
  },
  {
   "cell_type": "code",
   "execution_count": 4,
   "id": "0fff9d22",
   "metadata": {},
   "outputs": [
    {
     "name": "stdout",
     "output_type": "stream",
     "text": [
      "The autoreload extension is already loaded. To reload it, use:\n",
      "  %reload_ext autoreload\n",
      "=== DMFT loop 0 ===\n",
      "occ =  (1.0000004507091715+0j)\n",
      " => diff: 0.8815316567593733\n",
      "=== DMFT loop 1 ===\n",
      "occ =  (1.0000026091147325+0j)\n"
     ]
    },
    {
     "ename": "KeyboardInterrupt",
     "evalue": "",
     "output_type": "error",
     "traceback": [
      "\u001b[0;31m---------------------------------------------------------------------------\u001b[0m",
      "\u001b[0;31mKeyboardInterrupt\u001b[0m                         Traceback (most recent call last)",
      "Cell \u001b[0;32mIn[4], line 12\u001b[0m\n\u001b[1;32m     10\u001b[0m n_site_bain \u001b[38;5;241m=\u001b[39m \u001b[38;5;241m2\u001b[39m\n\u001b[1;32m     11\u001b[0m N \u001b[38;5;241m=\u001b[39m \u001b[38;5;241m100\u001b[39m\n\u001b[0;32m---> 12\u001b[0m sig_imp, g_imp_nplus1, valeurs_prop, vecteurs_prop, data \u001b[38;5;241m=\u001b[39m \u001b[43mDMFT_lattice\u001b[49m\u001b[43m(\u001b[49m\u001b[43mprecision\u001b[49m\u001b[43m \u001b[49m\u001b[38;5;241;43m=\u001b[39;49m\u001b[43m \u001b[49m\u001b[43mprecision\u001b[49m\u001b[43m,\u001b[49m\n\u001b[1;32m     13\u001b[0m \u001b[43m                                                                \u001b[49m\u001b[43mU\u001b[49m\u001b[43m \u001b[49m\u001b[38;5;241;43m=\u001b[39;49m\u001b[43m \u001b[49m\u001b[43mU\u001b[49m\u001b[43m,\u001b[49m\u001b[43mt\u001b[49m\u001b[38;5;241;43m=\u001b[39;49m\u001b[43m \u001b[49m\u001b[43mt\u001b[49m\u001b[43m \u001b[49m\u001b[43m,\u001b[49m\u001b[43mmu\u001b[49m\u001b[38;5;241;43m=\u001b[39;49m\u001b[43m \u001b[49m\u001b[43mmu\u001b[49m\u001b[43m,\u001b[49m\n\u001b[1;32m     14\u001b[0m \u001b[43m                                                                \u001b[49m\u001b[43mbeta\u001b[49m\u001b[38;5;241;43m=\u001b[39;49m\u001b[43m \u001b[49m\u001b[43mbeta\u001b[49m\u001b[43m,\u001b[49m\u001b[43mp1\u001b[49m\u001b[38;5;241;43m=\u001b[39;49m\u001b[43mp1\u001b[49m\u001b[43m,\u001b[49m\u001b[43mp2\u001b[49m\u001b[38;5;241;43m=\u001b[39;49m\u001b[43mp2\u001b[49m\u001b[43m,\u001b[49m\n\u001b[1;32m     15\u001b[0m \u001b[43m                                                                \u001b[49m\u001b[43mn_site_bain\u001b[49m\u001b[38;5;241;43m=\u001b[39;49m\u001b[43mn_site_bain\u001b[49m\u001b[43m,\u001b[49m\u001b[43mN\u001b[49m\u001b[38;5;241;43m=\u001b[39;49m\u001b[43mN\u001b[49m\u001b[43m)\u001b[49m\n",
      "File \u001b[0;32m~/work/thomas_louis/prl-hubbard/dmft2.py:132\u001b[0m, in \u001b[0;36mDMFT_lattice\u001b[0;34m(precision, U, t, mu, beta, p1, p2, n_site_bain, N, max_n_loops)\u001b[0m\n\u001b[1;32m    130\u001b[0m \u001b[38;5;66;03m# computing GF\u001b[39;00m\n\u001b[1;32m    131\u001b[0m g_imp_n \u001b[38;5;241m=\u001b[39m g_imp_nplus1\n\u001b[0;32m--> 132\u001b[0m g_imp_nplus1 \u001b[38;5;241m=\u001b[39m (\u001b[38;5;241m1\u001b[39m\u001b[38;5;241m-\u001b[39meps) \u001b[38;5;241m*\u001b[39m G_Lehmann(valeurs_prop, vecteurs_prop, beta, n_site_bain, omegas) \u001b[38;5;241m+\u001b[39m eps\u001b[38;5;241m*\u001b[39mg_imp_nplus1\n\u001b[1;32m    134\u001b[0m \u001b[38;5;66;03m# computing self-energy\u001b[39;00m\n\u001b[1;32m    135\u001b[0m sig_imp \u001b[38;5;241m=\u001b[39m np\u001b[38;5;241m.\u001b[39marray([\u001b[38;5;241m1\u001b[39m\u001b[38;5;241m/\u001b[39mG_ronde_fit[n] \u001b[38;5;241m-\u001b[39m \u001b[38;5;241m1\u001b[39m \u001b[38;5;241m/\u001b[39m g_imp_nplus1[n] \u001b[38;5;28;01mfor\u001b[39;00m n \u001b[38;5;129;01min\u001b[39;00m \u001b[38;5;28mrange\u001b[39m(N)])\n",
      "File \u001b[0;32m~/work/thomas_louis/prl-hubbard/dmft2.py:66\u001b[0m, in \u001b[0;36mG_Lehmann\u001b[0;34m(valeurs_prop, vecteurs_prop, beta, n_site_bain, omegas)\u001b[0m\n\u001b[1;32m     64\u001b[0m     prod_scal \u001b[38;5;241m=\u001b[39m \u001b[38;5;28mabs\u001b[39m(vecteurs_prop[:, j]\u001b[38;5;241m.\u001b[39mconj()\u001b[38;5;241m.\u001b[39mdot(cdag[\u001b[38;5;241m0\u001b[39m]\u001b[38;5;241m.\u001b[39mdot(vecteurs_prop[:, i])))\u001b[38;5;241m*\u001b[39m\u001b[38;5;241m*\u001b[39m\u001b[38;5;241m2\u001b[39m\n\u001b[1;32m     65\u001b[0m     \u001b[38;5;28;01mfor\u001b[39;00m n \u001b[38;5;129;01min\u001b[39;00m \u001b[38;5;28mrange\u001b[39m(N):\n\u001b[0;32m---> 66\u001b[0m         resu[n] \u001b[38;5;241m+\u001b[39m\u001b[38;5;241m=\u001b[39m ((\u001b[43mnp\u001b[49m\u001b[38;5;241;43m.\u001b[39;49m\u001b[43mexp\u001b[49m\u001b[43m(\u001b[49m\u001b[38;5;241;43m-\u001b[39;49m\u001b[43mbeta\u001b[49m\u001b[38;5;241;43m*\u001b[39;49m\u001b[43mvaleurs_prop\u001b[49m\u001b[43m[\u001b[49m\u001b[43mi\u001b[49m\u001b[43m]\u001b[49m\u001b[43m)\u001b[49m\u001b[43m \u001b[49m\u001b[38;5;241;43m+\u001b[39;49m\u001b[43m \u001b[49m\u001b[43mnp\u001b[49m\u001b[38;5;241;43m.\u001b[39;49m\u001b[43mexp\u001b[49m\u001b[43m(\u001b[49m\u001b[38;5;241;43m-\u001b[39;49m\u001b[43mbeta\u001b[49m\u001b[38;5;241;43m*\u001b[39;49m\u001b[43mvaleurs_prop\u001b[49m\u001b[43m[\u001b[49m\u001b[43mj\u001b[49m\u001b[43m]\u001b[49m\u001b[43m)\u001b[49m) \u001b[38;5;241m*\u001b[39m prod_scal ) \u001b[38;5;241m/\u001b[39m (\n\u001b[1;32m     67\u001b[0m                 valeurs_prop[j] \u001b[38;5;241m-\u001b[39m valeurs_prop[i] \u001b[38;5;241m-\u001b[39m \u001b[38;5;241m1\u001b[39mj \u001b[38;5;241m*\u001b[39m omegas[n])\n\u001b[1;32m     68\u001b[0m \u001b[38;5;28;01mreturn\u001b[39;00m \u001b[38;5;241m-\u001b[39mresu\u001b[38;5;241m/\u001b[39mZ\n",
      "\u001b[0;31mKeyboardInterrupt\u001b[0m: "
     ]
    }
   ],
   "source": [
    "%load_ext autoreload\n",
    "%autoreload 2\n",
    "from dmft2 import DMFT_lattice\n",
    "precision = 0.001\n",
    "U = 6.0\n",
    "t = 1.0\n",
    "mu = U/2\n",
    "beta = 20\n",
    "p1 = p2 = 10\n",
    "n_site_bain = 2\n",
    "N = 100\n",
    "sig_imp, g_imp_nplus1, valeurs_prop, vecteurs_prop, data = DMFT_lattice(precision = precision,\n",
    "                                                                U = U,t= t ,mu= mu,\n",
    "                                                                beta= beta,p1=p1,p2=p2,\n",
    "                                                                n_site_bain=n_site_bain,N=N)"
   ]
  },
  {
   "cell_type": "code",
   "execution_count": 2,
   "id": "08593c9c",
   "metadata": {},
   "outputs": [
    {
     "name": "stdout",
     "output_type": "stream",
     "text": [
      "=== DMFT loop 0 ===\n",
      "occ =  (0.9999999999592885+0j)\n",
      " => diff: 12.874709071612907\n",
      "=== DMFT loop 1 ===\n",
      "occ =  (0.999999999993305+0j)\n",
      " => diff: 0.043418980873321154\n",
      "=== DMFT loop 2 ===\n",
      "occ =  (0.9999999967762594+0j)\n",
      " => diff: 0.007243963813409179\n",
      "=== DMFT loop 3 ===\n",
      "occ =  (1.0000000016459114+0j)\n",
      " => diff: 0.0012027661303283146\n",
      "=== DMFT loop 4 ===\n",
      "occ =  (1.000000001046169+0j)\n",
      " => diff: 0.0001998276677386074\n"
     ]
    }
   ],
   "source": [
    "from dmft2 import DMFT_bethe\n",
    "precision = 0.001\n",
    "U = 6.0\n",
    "t = 1.0\n",
    "mu = U/2\n",
    "beta = 20\n",
    "p1 = p2 = 10\n",
    "n_site_bain = 2\n",
    "N = 100\n",
    "sig_imp, g_imp_nplus1, valeurs_prop, vecteurs_prop, data = DMFT_bethe(precision = precision,\n",
    "                                                                U = U,t= t ,mu= mu,\n",
    "                                                                beta= beta,\n",
    "                                                                n_site_bain=n_site_bain,N=N)\n"
   ]
  },
  {
   "cell_type": "markdown",
   "id": "456b842f",
   "metadata": {},
   "source": [
    "## Plots for one loop index"
   ]
  },
  {
   "cell_type": "code",
   "execution_count": null,
   "id": "e5c62726",
   "metadata": {},
   "outputs": [],
   "source": [
    "import matplotlib.pyplot as plt\n",
    "from matplotlib.gridspec import GridSpec\n",
    "plt.figure(figsize=(10, 10))\n",
    "gs = GridSpec(3,3)\n",
    "cols = ['b', 'or', 'g']\n",
    "obs_list = [(\"g_loc\",), (\"delta\", \"delta_fit\"), (\"g_ronde\", \"g_ronde_fit\", \"g_imp_nplus1\"), (\"sig_imp\",)]\n",
    "for sub, obs_t in enumerate(obs_list):\n",
    "    loop_ind = 3\n",
    "    plt.subplot(gs[sub])\n",
    "    for col, obs in enumerate(obs_t):\n",
    "        if \"sig\" not in obs:\n",
    "            plt.plot(data[f\"{obs}_{loop_ind}\"].real, \"-\"+cols[col], label=f\"Re {obs}_{loop_ind}\")\n",
    "        plt.plot(data[f\"{obs}_{loop_ind}\"].imag, \"--\"+cols[col], label=f\"Im {obs}_{loop_ind}\")\n",
    "    plt.xlabel(r\"$\\omega_n$\")\n",
    "    plt.legend()\n",
    "    #plt.xlim(0,20)\n",
    "    plt.grid()\n",
    "plt.tight_layout()"
   ]
  },
  {
   "cell_type": "markdown",
   "id": "1b8bcf55",
   "metadata": {},
   "source": [
    "## Plots for several loop indices"
   ]
  },
  {
   "cell_type": "code",
   "execution_count": null,
   "id": "6747f38d",
   "metadata": {},
   "outputs": [],
   "source": [
    "plt.figure(figsize=(10, 10))\n",
    "gs = GridSpec(3,3)\n",
    "cols = ['b', 'r', 'g', 'c', 'm']\n",
    "obs_list = [\"g_loc\", \"delta\",\"g_ronde\", \"g_imp_nplus1\", \"sig_imp\"]\n",
    "for sub, obs in enumerate(obs_list):\n",
    "    plt.subplot(gs[sub])\n",
    "    for col, loop_ind in enumerate(range(1,6)):\n",
    "        try:\n",
    "            if \"sig\" not in obs:\n",
    "                plt.plot(data[f\"{obs}_{loop_ind}\"].real, \"-\"+cols[col], label=f\"Re {obs}_{loop_ind}\")\n",
    "            plt.plot(data[f\"{obs}_{loop_ind}\"].imag, \"--\"+cols[col], label=f\"Im {obs}_{loop_ind}\")\n",
    "        except:\n",
    "            pass\n",
    "    plt.xlabel(r\"$\\omega_n$\")\n",
    "    plt.legend()\n",
    "    #plt.xlim(0,20)\n",
    "    plt.grid()\n",
    "plt.tight_layout()"
   ]
  },
  {
   "cell_type": "markdown",
   "id": "fc1a78e8",
   "metadata": {},
   "source": [
    "## Locating the Mott transition"
   ]
  },
  {
   "cell_type": "code",
   "execution_count": null,
   "id": "c0b469c7",
   "metadata": {},
   "outputs": [],
   "source": [
    "U_list = np.linspace(0, 15, 10)\n",
    "\n",
    "data = {}\n",
    "for U in U_list:\n",
    "    print(f\"=== U = {U} ===\")\n",
    "    precision = 0.0001\n",
    "    t = 1.0\n",
    "    mu = U/2\n",
    "    beta = 20\n",
    "    p1 = p2 = p3 = 10\n",
    "    n_site_bain = 2\n",
    "    N = 100\n",
    "    sig_imp, g_imp_nplus1, valeurs_prop, vecteurs_prop, data[U] = DMFT_lattice(precision = precision,\n",
    "                                                                       U = U,t= t ,mu= mu,\n",
    "                                                                       beta=beta,p1=p1,p2=p2,p3=p3,\n",
    "                                                                       n_site_bain=n_site_bain,N=N)"
   ]
  },
  {
   "cell_type": "code",
   "execution_count": null,
   "id": "1fc9bd28",
   "metadata": {},
   "outputs": [],
   "source": [
    "val_list = []\n",
    "for U in U_list:\n",
    "    #obs = \"sig_imp\"\n",
    "    obs = \"g_imp_nplus1\"\n",
    "    val = None\n",
    "    for loop_ind in range(1, 10):\n",
    "        try:\n",
    "            val = data[U][f\"{obs}_{loop_ind}\"][0].imag\n",
    "        except:\n",
    "            pass\n",
    "    val_list.append(val)\n",
    "plt.plot(U_list, val_list, '-o')    \n",
    "plt.grid()\n",
    "if obs == \"sig_imp\":\n",
    "    plt.ylabel(r\"$\\mathrm{Im}\\Sigma_\\mathrm{imp}(i\\omega_0)$\")\n",
    "else:\n",
    "    plt.ylabel(r\"$\\mathrm{Im} G_\\mathrm{imp}(i\\omega_0)$\")\n",
    "plt.xlabel(r\"$U$\");"
   ]
  },
  {
   "cell_type": "markdown",
   "id": "2fce62af",
   "metadata": {},
   "source": [
    "## Locating the Mott transition (Bethe)"
   ]
  },
  {
   "cell_type": "code",
   "execution_count": 6,
   "id": "1fd8ae09",
   "metadata": {},
   "outputs": [
    {
     "data": {
      "image/png": "[encoded data removed]",
      "text/plain": [
       "<Figure size 640x480 with 1 Axes>"
      ]
     },
     "metadata": {},
     "output_type": "display_data"
    }
   ],
   "source": []
  },
  {
   "cell_type": "markdown",
   "id": "6d0c3175",
   "metadata": {},
   "source": [
    "### Test fit_curve"
   ]
  },
  {
   "cell_type": "code",
   "execution_count": null,
   "id": "8d54316a",
   "metadata": {},
   "outputs": [],
   "source": [
    "\n",
    "v = np.array([0.5, 0.25])\n",
    "eps = np.array([1.14, 3.])\n",
    "N =100\n",
    "omegas = [(2 * n + 1) * 2 * np.pi / beta for n in range(N)]\n",
    "delta = np.array([sum(v ** 2 / (1j*om - eps)) for om in omegas])\n",
    "n = 1\n",
    "x, pcov = fit_curve(delta, omegas, n)\n",
    "delta_fit = delta_appro(omegas, *x)\n",
    "print(\"x = \", x)\n",
    "print(\"pcov =\", pcov)\n",
    "delta_fit = delta_fit[:len(delta_fit)//2] + 1j*delta_fit[len(delta_fit)//2:]\n",
    "\n",
    "plt.plot(omegas, delta.imag, label = \"original\")\n",
    "plt.plot(omegas, delta_fit.imag, label = \"fit\")\n",
    "plt.legend()"
   ]
  },
  {
   "cell_type": "code",
   "execution_count": null,
   "id": "16371619",
   "metadata": {},
   "outputs": [],
   "source": []
  }
 ],
 "metadata": {
  "kernelspec": {
   "display_name": "Python 3 (ipykernel)",
   "language": "python",
   "name": "python3"
  },
  "language_info": {
   "codemirror_mode": {
    "name": "ipython",
    "version": 3
   },
   "file_extension": ".py",
   "mimetype": "text/x-python",
   "name": "python",
   "nbconvert_exporter": "python",
   "pygments_lexer": "ipython3",
   "version": "3.9.16"
  }
 },
 "nbformat": 4,
 "nbformat_minor": 5
}
